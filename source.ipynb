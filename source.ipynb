{
 "cells": [
  {
   "cell_type": "code",
   "execution_count": null,
   "metadata": {},
   "outputs": [],
   "source": [
    "import pandas as pd"
   ]
  },
  {
   "cell_type": "code",
   "execution_count": 3,
   "metadata": {},
   "outputs": [
    {
     "name": "stdout",
     "output_type": "stream",
     "text": [
      "   user_id  test  converted  tot_impr  mode_impr_day  mode_impr_hour\n",
      "0  1069124     1          0       130              1              20\n",
      "1  1119715     1          0        93              2              22\n",
      "2  1144181     1          0        21              2              18\n",
      "3  1435133     1          0       355              2              10\n",
      "4  1015700     1          0       276              5              14\n"
     ]
    }
   ],
   "source": [
    "data_path = \"data.xlsx\"\n",
    "data = pd.read_excel(data_path)\n",
    "print(data.head())"
   ]
  }
 ],
 "metadata": {
  "kernelspec": {
   "display_name": "yolo_env",
   "language": "python",
   "name": "yolo_env"
  },
  "language_info": {
   "codemirror_mode": {
    "name": "ipython",
    "version": 3
   },
   "file_extension": ".py",
   "mimetype": "text/x-python",
   "name": "python",
   "nbconvert_exporter": "python",
   "pygments_lexer": "ipython3",
   "version": "3.9.12"
  }
 },
 "nbformat": 4,
 "nbformat_minor": 2
}
