{
 "cells": [
  {
   "cell_type": "code",
   "execution_count": 122,
   "metadata": {},
   "outputs": [],
   "source": [
    "import pandas as pd\n",
    "import matplotlib.pyplot as plt"
   ]
  },
  {
   "cell_type": "code",
   "execution_count": 46,
   "metadata": {},
   "outputs": [
    {
     "data": {
      "text/html": [
       "<div>\n",
       "<style scoped>\n",
       "    .dataframe tbody tr th:only-of-type {\n",
       "        vertical-align: middle;\n",
       "    }\n",
       "\n",
       "    .dataframe tbody tr th {\n",
       "        vertical-align: top;\n",
       "    }\n",
       "\n",
       "    .dataframe thead th {\n",
       "        text-align: right;\n",
       "    }\n",
       "</style>\n",
       "<table border=\"1\" class=\"dataframe\">\n",
       "  <thead>\n",
       "    <tr style=\"text-align: right;\">\n",
       "      <th></th>\n",
       "      <th>user_id</th>\n",
       "      <th>test</th>\n",
       "      <th>converted</th>\n",
       "      <th>tot_impr</th>\n",
       "      <th>mode_impr_day</th>\n",
       "      <th>mode_impr_hour</th>\n",
       "    </tr>\n",
       "  </thead>\n",
       "  <tbody>\n",
       "    <tr>\n",
       "      <th>0</th>\n",
       "      <td>1069124</td>\n",
       "      <td>1</td>\n",
       "      <td>0</td>\n",
       "      <td>130</td>\n",
       "      <td>1</td>\n",
       "      <td>20</td>\n",
       "    </tr>\n",
       "    <tr>\n",
       "      <th>1</th>\n",
       "      <td>1119715</td>\n",
       "      <td>1</td>\n",
       "      <td>0</td>\n",
       "      <td>93</td>\n",
       "      <td>2</td>\n",
       "      <td>22</td>\n",
       "    </tr>\n",
       "    <tr>\n",
       "      <th>2</th>\n",
       "      <td>1144181</td>\n",
       "      <td>1</td>\n",
       "      <td>0</td>\n",
       "      <td>21</td>\n",
       "      <td>2</td>\n",
       "      <td>18</td>\n",
       "    </tr>\n",
       "    <tr>\n",
       "      <th>3</th>\n",
       "      <td>1435133</td>\n",
       "      <td>1</td>\n",
       "      <td>0</td>\n",
       "      <td>355</td>\n",
       "      <td>2</td>\n",
       "      <td>10</td>\n",
       "    </tr>\n",
       "    <tr>\n",
       "      <th>4</th>\n",
       "      <td>1015700</td>\n",
       "      <td>1</td>\n",
       "      <td>0</td>\n",
       "      <td>276</td>\n",
       "      <td>5</td>\n",
       "      <td>14</td>\n",
       "    </tr>\n",
       "  </tbody>\n",
       "</table>\n",
       "</div>"
      ],
      "text/plain": [
       "   user_id  test  converted  tot_impr  mode_impr_day  mode_impr_hour\n",
       "0  1069124     1          0       130              1              20\n",
       "1  1119715     1          0        93              2              22\n",
       "2  1144181     1          0        21              2              18\n",
       "3  1435133     1          0       355              2              10\n",
       "4  1015700     1          0       276              5              14"
      ]
     },
     "execution_count": 46,
     "metadata": {},
     "output_type": "execute_result"
    }
   ],
   "source": [
    "data_path = \"data.xlsx\"\n",
    "data = pd.read_excel(data_path)\n",
    "data.head()"
   ]
  },
  {
   "cell_type": "markdown",
   "metadata": {},
   "source": [
    "## Q1 "
   ]
  },
  {
   "cell_type": "code",
   "execution_count": 47,
   "metadata": {},
   "outputs": [
    {
     "data": {
      "text/html": [
       "<div>\n",
       "<style scoped>\n",
       "    .dataframe tbody tr th:only-of-type {\n",
       "        vertical-align: middle;\n",
       "    }\n",
       "\n",
       "    .dataframe tbody tr th {\n",
       "        vertical-align: top;\n",
       "    }\n",
       "\n",
       "    .dataframe thead th {\n",
       "        text-align: right;\n",
       "    }\n",
       "</style>\n",
       "<table border=\"1\" class=\"dataframe\">\n",
       "  <thead>\n",
       "    <tr style=\"text-align: right;\">\n",
       "      <th></th>\n",
       "      <th>user_id</th>\n",
       "      <th>test</th>\n",
       "      <th>converted</th>\n",
       "      <th>tot_impr</th>\n",
       "      <th>mode_impr_day</th>\n",
       "      <th>mode_impr_hour</th>\n",
       "    </tr>\n",
       "  </thead>\n",
       "  <tbody>\n",
       "    <tr>\n",
       "      <th>0</th>\n",
       "      <td>1069124</td>\n",
       "      <td>1</td>\n",
       "      <td>0</td>\n",
       "      <td>130</td>\n",
       "      <td>1</td>\n",
       "      <td>20</td>\n",
       "    </tr>\n",
       "    <tr>\n",
       "      <th>1</th>\n",
       "      <td>1119715</td>\n",
       "      <td>1</td>\n",
       "      <td>0</td>\n",
       "      <td>93</td>\n",
       "      <td>2</td>\n",
       "      <td>22</td>\n",
       "    </tr>\n",
       "    <tr>\n",
       "      <th>2</th>\n",
       "      <td>1144181</td>\n",
       "      <td>1</td>\n",
       "      <td>0</td>\n",
       "      <td>21</td>\n",
       "      <td>2</td>\n",
       "      <td>18</td>\n",
       "    </tr>\n",
       "    <tr>\n",
       "      <th>3</th>\n",
       "      <td>1435133</td>\n",
       "      <td>1</td>\n",
       "      <td>0</td>\n",
       "      <td>355</td>\n",
       "      <td>2</td>\n",
       "      <td>10</td>\n",
       "    </tr>\n",
       "    <tr>\n",
       "      <th>4</th>\n",
       "      <td>1015700</td>\n",
       "      <td>1</td>\n",
       "      <td>0</td>\n",
       "      <td>276</td>\n",
       "      <td>5</td>\n",
       "      <td>14</td>\n",
       "    </tr>\n",
       "  </tbody>\n",
       "</table>\n",
       "</div>"
      ],
      "text/plain": [
       "   user_id  test  converted  tot_impr  mode_impr_day  mode_impr_hour\n",
       "0  1069124     1          0       130              1              20\n",
       "1  1119715     1          0        93              2              22\n",
       "2  1144181     1          0        21              2              18\n",
       "3  1435133     1          0       355              2              10\n",
       "4  1015700     1          0       276              5              14"
      ]
     },
     "execution_count": 47,
     "metadata": {},
     "output_type": "execute_result"
    }
   ],
   "source": [
    "advertising_group = data[data[\"test\"] == 1]\n",
    "advertising_group.head()"
   ]
  },
  {
   "cell_type": "code",
   "execution_count": 48,
   "metadata": {},
   "outputs": [
    {
     "name": "stdout",
     "output_type": "stream",
     "text": [
      "Number of consumers shown ads:  564577\n",
      "Number of consumers conveted from ads:  14423\n"
     ]
    }
   ],
   "source": [
    "num_converted_ads = advertising_group[advertising_group[\"converted\"] == 1]\n",
    "converted_ads = len(num_converted_ads)\n",
    "total_ads = len(advertising_group)\n",
    "print(\"Number of consumers shown ads: \", total_ads)\n",
    "print(\"Number of consumers conveted from ads: \", converted_ads)"
   ]
  },
  {
   "cell_type": "code",
   "execution_count": 49,
   "metadata": {},
   "outputs": [
    {
     "name": "stdout",
     "output_type": "stream",
     "text": [
      "Percentage conversion with ads:  2.5546559636683748 %\n"
     ]
    }
   ],
   "source": [
    "perc_people_bought_ads = converted_ads / total_ads\n",
    "print(\"Percentage conversion with ads: \", perc_people_bought_ads * 100, \"%\")"
   ]
  },
  {
   "cell_type": "code",
   "execution_count": 50,
   "metadata": {},
   "outputs": [
    {
     "data": {
      "text/html": [
       "<div>\n",
       "<style scoped>\n",
       "    .dataframe tbody tr th:only-of-type {\n",
       "        vertical-align: middle;\n",
       "    }\n",
       "\n",
       "    .dataframe tbody tr th {\n",
       "        vertical-align: top;\n",
       "    }\n",
       "\n",
       "    .dataframe thead th {\n",
       "        text-align: right;\n",
       "    }\n",
       "</style>\n",
       "<table border=\"1\" class=\"dataframe\">\n",
       "  <thead>\n",
       "    <tr style=\"text-align: right;\">\n",
       "      <th></th>\n",
       "      <th>user_id</th>\n",
       "      <th>test</th>\n",
       "      <th>converted</th>\n",
       "      <th>tot_impr</th>\n",
       "      <th>mode_impr_day</th>\n",
       "      <th>mode_impr_hour</th>\n",
       "    </tr>\n",
       "  </thead>\n",
       "  <tbody>\n",
       "    <tr>\n",
       "      <th>18</th>\n",
       "      <td>900681</td>\n",
       "      <td>0</td>\n",
       "      <td>0</td>\n",
       "      <td>248</td>\n",
       "      <td>6</td>\n",
       "      <td>19</td>\n",
       "    </tr>\n",
       "    <tr>\n",
       "      <th>38</th>\n",
       "      <td>905704</td>\n",
       "      <td>0</td>\n",
       "      <td>0</td>\n",
       "      <td>27</td>\n",
       "      <td>4</td>\n",
       "      <td>8</td>\n",
       "    </tr>\n",
       "    <tr>\n",
       "      <th>68</th>\n",
       "      <td>904595</td>\n",
       "      <td>0</td>\n",
       "      <td>0</td>\n",
       "      <td>13</td>\n",
       "      <td>2</td>\n",
       "      <td>19</td>\n",
       "    </tr>\n",
       "    <tr>\n",
       "      <th>140</th>\n",
       "      <td>901904</td>\n",
       "      <td>0</td>\n",
       "      <td>0</td>\n",
       "      <td>32</td>\n",
       "      <td>3</td>\n",
       "      <td>19</td>\n",
       "    </tr>\n",
       "    <tr>\n",
       "      <th>157</th>\n",
       "      <td>902234</td>\n",
       "      <td>0</td>\n",
       "      <td>0</td>\n",
       "      <td>105</td>\n",
       "      <td>2</td>\n",
       "      <td>19</td>\n",
       "    </tr>\n",
       "  </tbody>\n",
       "</table>\n",
       "</div>"
      ],
      "text/plain": [
       "     user_id  test  converted  tot_impr  mode_impr_day  mode_impr_hour\n",
       "18    900681     0          0       248              6              19\n",
       "38    905704     0          0        27              4               8\n",
       "68    904595     0          0        13              2              19\n",
       "140   901904     0          0        32              3              19\n",
       "157   902234     0          0       105              2              19"
      ]
     },
     "execution_count": 50,
     "metadata": {},
     "output_type": "execute_result"
    }
   ],
   "source": [
    "control_group = data[data[\"test\"] == 0]\n",
    "control_group.head()"
   ]
  },
  {
   "cell_type": "code",
   "execution_count": 51,
   "metadata": {},
   "outputs": [
    {
     "name": "stdout",
     "output_type": "stream",
     "text": [
      "Number of consumers in control group:  23524\n",
      "Number of consumers converted from control group:  420\n"
     ]
    }
   ],
   "source": [
    "num_converted_no_ads = control_group[control_group[\"converted\"] == 1]\n",
    "converted_no_ads = len(num_converted_no_ads)\n",
    "total_no_ads = len(control_group)\n",
    "print(\"Number of consumers in control group: \", total_no_ads)\n",
    "print(\"Number of consumers converted from control group: \", converted_no_ads)"
   ]
  },
  {
   "cell_type": "code",
   "execution_count": 52,
   "metadata": {},
   "outputs": [
    {
     "name": "stdout",
     "output_type": "stream",
     "text": [
      "Percentage converted from control:  1.785410644448223 %\n"
     ]
    }
   ],
   "source": [
    "perc_people_bought_control = converted_no_ads / total_no_ads\n",
    "print(\"Percentage converted from control: \", perc_people_bought_control * 100, \"%\")"
   ]
  },
  {
   "cell_type": "markdown",
   "metadata": {},
   "source": [
    "Yes, the advertising campaign was effective because `perc_people_bought_ads` > `perc_people_bought_control`. Due to the same reason, we can say that additional consumers converted as a result of the ad campaign."
   ]
  },
  {
   "cell_type": "markdown",
   "metadata": {},
   "source": [
    "## Q2 a)"
   ]
  },
  {
   "cell_type": "code",
   "execution_count": 53,
   "metadata": {},
   "outputs": [],
   "source": [
    "# This variable depicts the purses that would have been sold if ads weren't sent\n",
    "purses_ads_not_sent = perc_people_bought_control * total_ads\n",
    "\n",
    "purses_actually_sold = converted_ads\n",
    "\n",
    "diff_purses = purses_actually_sold - purses_ads_not_sent\n",
    "\n",
    "converting_user_worth = 40\n",
    "more_money_made = diff_purses * converting_user_worth"
   ]
  },
  {
   "cell_type": "code",
   "execution_count": 54,
   "metadata": {},
   "outputs": [
    {
     "name": "stdout",
     "output_type": "stream",
     "text": [
      "More money made by Taskabella by running the campaign: $173719.28583574225\n"
     ]
    }
   ],
   "source": [
    "print(\"More money made by Taskabella by running the campaign: $\" + str(more_money_made))"
   ]
  },
  {
   "cell_type": "markdown",
   "metadata": {},
   "source": [
    "## Q2 b)"
   ]
  },
  {
   "cell_type": "code",
   "execution_count": 55,
   "metadata": {},
   "outputs": [],
   "source": [
    "total_impressions_sent = data[\"tot_impr\"].sum()\n",
    "total_impr_per_thousand = total_impressions_sent / 1000\n",
    "cost_CPM = 9\n",
    "cost_of_campaign = total_impr_per_thousand * cost_CPM"
   ]
  },
  {
   "cell_type": "code",
   "execution_count": 56,
   "metadata": {},
   "outputs": [
    {
     "name": "stdout",
     "output_type": "stream",
     "text": [
      "Cost of the campaign is $131374.638\n"
     ]
    }
   ],
   "source": [
    "print(\"Cost of the campaign is $\" + str(cost_of_campaign))"
   ]
  },
  {
   "cell_type": "markdown",
   "metadata": {},
   "source": [
    "## Q2 c)"
   ]
  },
  {
   "cell_type": "code",
   "execution_count": 57,
   "metadata": {},
   "outputs": [],
   "source": [
    "ROI = (more_money_made - cost_of_campaign) / cost_of_campaign"
   ]
  },
  {
   "cell_type": "code",
   "execution_count": 58,
   "metadata": {},
   "outputs": [
    {
     "name": "stdout",
     "output_type": "stream",
     "text": [
      "Return on investment is: 32.2319806017218%\n",
      "Yes, the campaign was profitable.\n"
     ]
    }
   ],
   "source": [
    "print(\"Return on investment is:\", str(ROI * 100) + \"%\")\n",
    "print(\"Yes, the campaign was profitable.\")"
   ]
  },
  {
   "cell_type": "markdown",
   "metadata": {},
   "source": [
    "## Q2 d)"
   ]
  },
  {
   "cell_type": "code",
   "execution_count": 59,
   "metadata": {},
   "outputs": [],
   "source": [
    "purses_sold_control = converted_no_ads\n",
    "purses_sold_control_ads = perc_people_bought_ads * total_no_ads\n",
    "\n",
    "diff_control_purses = purses_sold_control_ads - purses_sold_control\n",
    "\n",
    "opportunity_cost = diff_control_purses * 40"
   ]
  },
  {
   "cell_type": "code",
   "execution_count": 60,
   "metadata": {},
   "outputs": [
    {
     "name": "stdout",
     "output_type": "stream",
     "text": [
      "Opporunity Cost of adding a control variable: $7238.290755733938\n"
     ]
    }
   ],
   "source": [
    "print(\"Opporunity Cost of adding a control variable: $\" +  str(opportunity_cost))"
   ]
  },
  {
   "cell_type": "markdown",
   "metadata": {},
   "source": [
    "## Q3 a)"
   ]
  },
  {
   "cell_type": "code",
   "execution_count": 258,
   "metadata": {},
   "outputs": [],
   "source": [
    "def plot_graph(group_conv_rate, group_edges):\n",
    "    x_labels_compute = []\n",
    "    for i in range(len(group_edges)):\n",
    "        x_labels_compute.append(str(group_edges[i][0]) + \"-\" + str(group_edges[i][1]))\n",
    "\n",
    "    plt.bar(x_labels_compute, group_conv_rate)\n",
    "    plt.xticks(rotation = 30)\n",
    "    plt.xlabel(\"Total Impressions\")\n",
    "    plt.ylabel(\"Conversion Percentage %\")\n",
    "    plt.title(\"Converstion Percentage vs Total Impressions\")\n",
    "    plt.show()"
   ]
  },
  {
   "cell_type": "code",
   "execution_count": 259,
   "metadata": {},
   "outputs": [],
   "source": [
    "def compute_graphs(dataframe):\n",
    "    curr_df = dataframe.copy()\n",
    "    curr_df[\"groups\"] = pd.cut(curr_df[\"tot_impr\"], bins = 7)\n",
    "    group_conversion_rate = (curr_df.groupby(\"groups\")[\"converted\"].sum() / curr_df.groupby(\"groups\")[\"converted\"].count()) * 100\n",
    "    \n",
    "    group_edges = []\n",
    "    for curr_group in curr_df[\"groups\"].cat.categories:\n",
    "        leftval = 0\n",
    "        if curr_group.left >= 0:\n",
    "            leftval = int(curr_group.left)\n",
    "        group_edges.append((leftval, int(curr_group.right)))\n",
    "\n",
    "    plot_graph(group_conversion_rate, group_edges)\n"
   ]
  },
  {
   "cell_type": "code",
   "execution_count": 260,
   "metadata": {},
   "outputs": [
    {
     "data": {
      "image/png": "[encoded data removed]",
      "text/plain": [
       "<Figure size 640x480 with 1 Axes>"
      ]
     },
     "metadata": {},
     "output_type": "display_data"
    }
   ],
   "source": [
    "compute_graphs(advertising_group)"
   ]
  },
  {
   "cell_type": "code",
   "execution_count": 261,
   "metadata": {},
   "outputs": [
    {
     "data": {
      "image/png": "[encoded data removed]",
      "text/plain": [
       "<Figure size 640x480 with 1 Axes>"
      ]
     },
     "metadata": {},
     "output_type": "display_data"
    }
   ],
   "source": [
    "compute_graphs(control_group)"
   ]
  }
 ],
 "metadata": {
  "kernelspec": {
   "display_name": "Python 3",
   "language": "python",
   "name": "python3"
  },
  "language_info": {
   "codemirror_mode": {
    "name": "ipython",
    "version": 3
   },
   "file_extension": ".py",
   "mimetype": "text/x-python",
   "name": "python",
   "nbconvert_exporter": "python",
   "pygments_lexer": "ipython3",
   "version": "3.9.5"
  }
 },
 "nbformat": 4,
 "nbformat_minor": 2
}
