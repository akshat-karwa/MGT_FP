{
 "cells": [
  {
   "cell_type": "code",
   "execution_count": 109,
   "metadata": {},
   "outputs": [],
   "source": [
    "import pandas as pd\n",
    "import matplotlib.pyplot as plt\n",
    "import numpy as np"
   ]
  },
  {
   "cell_type": "code",
   "execution_count": 5,
   "metadata": {},
   "outputs": [
    {
     "name": "stdout",
     "output_type": "stream",
     "text": [
      "   user_id  test  converted  tot_impr  mode_impr_day  mode_impr_hour\n",
      "0  1069124     1          0       130              1              20\n",
      "1  1119715     1          0        93              2              22\n",
      "2  1144181     1          0        21              2              18\n",
      "3  1435133     1          0       355              2              10\n",
      "4  1015700     1          0       276              5              14\n"
     ]
    }
   ],
   "source": [
    "data_path = \"data.xlsx\"\n",
    "data = pd.read_excel(data_path)\n",
    "print(data.head())"
   ]
  },
  {
   "cell_type": "code",
   "execution_count": 6,
   "metadata": {},
   "outputs": [
    {
     "data": {
      "text/html": [
       "<div>\n",
       "<style scoped>\n",
       "    .dataframe tbody tr th:only-of-type {\n",
       "        vertical-align: middle;\n",
       "    }\n",
       "\n",
       "    .dataframe tbody tr th {\n",
       "        vertical-align: top;\n",
       "    }\n",
       "\n",
       "    .dataframe thead th {\n",
       "        text-align: right;\n",
       "    }\n",
       "</style>\n",
       "<table border=\"1\" class=\"dataframe\">\n",
       "  <thead>\n",
       "    <tr style=\"text-align: right;\">\n",
       "      <th></th>\n",
       "      <th>user_id</th>\n",
       "      <th>test</th>\n",
       "      <th>converted</th>\n",
       "      <th>tot_impr</th>\n",
       "      <th>mode_impr_day</th>\n",
       "      <th>mode_impr_hour</th>\n",
       "    </tr>\n",
       "  </thead>\n",
       "  <tbody>\n",
       "    <tr>\n",
       "      <th>count</th>\n",
       "      <td>5.881010e+05</td>\n",
       "      <td>588101.000000</td>\n",
       "      <td>588101.000000</td>\n",
       "      <td>588101.000000</td>\n",
       "      <td>588101.000000</td>\n",
       "      <td>588101.000000</td>\n",
       "    </tr>\n",
       "    <tr>\n",
       "      <th>mean</th>\n",
       "      <td>1.310692e+06</td>\n",
       "      <td>0.960000</td>\n",
       "      <td>0.025239</td>\n",
       "      <td>24.820876</td>\n",
       "      <td>4.025533</td>\n",
       "      <td>14.469061</td>\n",
       "    </tr>\n",
       "    <tr>\n",
       "      <th>std</th>\n",
       "      <td>2.022260e+05</td>\n",
       "      <td>0.195959</td>\n",
       "      <td>0.156850</td>\n",
       "      <td>43.715181</td>\n",
       "      <td>2.004019</td>\n",
       "      <td>4.834634</td>\n",
       "    </tr>\n",
       "    <tr>\n",
       "      <th>min</th>\n",
       "      <td>9.000000e+05</td>\n",
       "      <td>0.000000</td>\n",
       "      <td>0.000000</td>\n",
       "      <td>1.000000</td>\n",
       "      <td>1.000000</td>\n",
       "      <td>0.000000</td>\n",
       "    </tr>\n",
       "    <tr>\n",
       "      <th>25%</th>\n",
       "      <td>1.143190e+06</td>\n",
       "      <td>1.000000</td>\n",
       "      <td>0.000000</td>\n",
       "      <td>4.000000</td>\n",
       "      <td>2.000000</td>\n",
       "      <td>11.000000</td>\n",
       "    </tr>\n",
       "    <tr>\n",
       "      <th>50%</th>\n",
       "      <td>1.313725e+06</td>\n",
       "      <td>1.000000</td>\n",
       "      <td>0.000000</td>\n",
       "      <td>13.000000</td>\n",
       "      <td>4.000000</td>\n",
       "      <td>14.000000</td>\n",
       "    </tr>\n",
       "    <tr>\n",
       "      <th>75%</th>\n",
       "      <td>1.484088e+06</td>\n",
       "      <td>1.000000</td>\n",
       "      <td>0.000000</td>\n",
       "      <td>27.000000</td>\n",
       "      <td>6.000000</td>\n",
       "      <td>18.000000</td>\n",
       "    </tr>\n",
       "    <tr>\n",
       "      <th>max</th>\n",
       "      <td>1.654483e+06</td>\n",
       "      <td>1.000000</td>\n",
       "      <td>1.000000</td>\n",
       "      <td>2065.000000</td>\n",
       "      <td>7.000000</td>\n",
       "      <td>23.000000</td>\n",
       "    </tr>\n",
       "  </tbody>\n",
       "</table>\n",
       "</div>"
      ],
      "text/plain": [
       "            user_id           test      converted       tot_impr  \\\n",
       "count  5.881010e+05  588101.000000  588101.000000  588101.000000   \n",
       "mean   1.310692e+06       0.960000       0.025239      24.820876   \n",
       "std    2.022260e+05       0.195959       0.156850      43.715181   \n",
       "min    9.000000e+05       0.000000       0.000000       1.000000   \n",
       "25%    1.143190e+06       1.000000       0.000000       4.000000   \n",
       "50%    1.313725e+06       1.000000       0.000000      13.000000   \n",
       "75%    1.484088e+06       1.000000       0.000000      27.000000   \n",
       "max    1.654483e+06       1.000000       1.000000    2065.000000   \n",
       "\n",
       "       mode_impr_day  mode_impr_hour  \n",
       "count  588101.000000   588101.000000  \n",
       "mean        4.025533       14.469061  \n",
       "std         2.004019        4.834634  \n",
       "min         1.000000        0.000000  \n",
       "25%         2.000000       11.000000  \n",
       "50%         4.000000       14.000000  \n",
       "75%         6.000000       18.000000  \n",
       "max         7.000000       23.000000  "
      ]
     },
     "execution_count": 6,
     "metadata": {},
     "output_type": "execute_result"
    }
   ],
   "source": [
    "data.describe()"
   ]
  },
  {
   "cell_type": "markdown",
   "metadata": {},
   "source": [
    "# Q1."
   ]
  },
  {
   "cell_type": "code",
   "execution_count": 72,
   "metadata": {},
   "outputs": [
    {
     "name": "stdout",
     "output_type": "stream",
     "text": [
      "Total number of identified users: 588101\n",
      "Total number of converted users: 14843\n",
      "\n",
      "Total number of users exposed to advertising (Test Group): 564577\n",
      "Total number of users not exposed to advertising (Control Group): 23524\n",
      "\n",
      "Number of Users that bought the handbag in Test Group: 14423\n",
      "Number of Users that bought the handbag in Control Group: 420\n",
      "\n",
      "Percentage convertion rate of users (Test Group): 2.5547 %\n",
      "Percentage convertion rate of users (Control Group): 1.7854%\n"
     ]
    }
   ],
   "source": [
    "total_num_users = data.shape[0]\n",
    "total_conversions = data[data['converted'] == 1].shape[0]\n",
    "test_group = data[data['test'] == 1]\n",
    "control_group = data[data['test'] == 0]\n",
    "test_group_count, control_group_count = test_group.shape[0],  control_group.shape[0]\n",
    "converted_from_test_grp = test_group[test_group['converted'] == 1]\n",
    "converted_from_test_grp_count = converted_from_test_grp.shape[0]\n",
    "converted_from_control_grp = control_group[control_group['converted'] == 1]\n",
    "converted_from_control_grp_count = converted_from_control_grp.shape[0]\n",
    "print(f'Total number of identified users: {total_num_users}')\n",
    "print(f'Total number of converted users: {total_conversions}\\n')\n",
    "print(f'Total number of users exposed to advertising (Test Group): {test_group_count}')\n",
    "print(f'Total number of users not exposed to advertising (Control Group): {control_group_count}\\n')\n",
    "print(f'Number of Users that bought the handbag in Test Group: {converted_from_test_grp_count}')\n",
    "print(f'Number of Users that bought the handbag in Control Group: {converted_from_control_grp_count}\\n')\n",
    "\n",
    "percent_conv_rate_test = converted_from_test_grp_count / test_group_count\n",
    "percent_conv_rate_control = converted_from_control_grp_count / control_group_count\n",
    "print(f'Percentage convertion rate of users (Test Group): {round(percent_conv_rate_test * 100, 4)} %')\n",
    "print(f'Percentage convertion rate of users (Control Group): {round(percent_conv_rate_control * 100, 4)}%')"
   ]
  },
  {
   "cell_type": "markdown",
   "metadata": {},
   "source": [
    "# Q2 (a)"
   ]
  },
  {
   "cell_type": "code",
   "execution_count": 73,
   "metadata": {},
   "outputs": [
    {
     "name": "stdout",
     "output_type": "stream",
     "text": [
      "Number of users converted in test group if no ad: 10080.017854106443\n",
      "Number of users converted in test group with ad: 14423\n",
      "Net additional numbber of users converted in test group due to ad: 4342.982145893557\n",
      "Converting user worth: $ 40\n",
      "Total profit: $ 173719.2858\n"
     ]
    }
   ],
   "source": [
    "num_users_converted_in_test_group_if_no_ad = percent_conv_rate_control * test_group_count\n",
    "num_users_converted_in_test_group_with_ad = converted_from_test_grp_count\n",
    "net__additional_num_user_converted = num_users_converted_in_test_group_with_ad - num_users_converted_in_test_group_if_no_ad\n",
    "converting_user_worth = 40\n",
    "print(f\"Number of users converted in test group if no ad: {num_users_converted_in_test_group_if_no_ad}\")\n",
    "print(f\"Number of users converted in test group with ad: {num_users_converted_in_test_group_with_ad}\")\n",
    "print(f\"Net additional numbber of users converted in test group due to ad: {net__additional_num_user_converted}\")\n",
    "print(f\"Converting user worth: $ {converting_user_worth}\")\n",
    "total_profit = (net__additional_num_user_converted * converting_user_worth)\n",
    "print(f\"Total profit: $ {round(total_profit, 4)}\")"
   ]
  },
  {
   "cell_type": "markdown",
   "metadata": {},
   "source": [
    "# Q2 (b)"
   ]
  },
  {
   "cell_type": "code",
   "execution_count": 74,
   "metadata": {},
   "outputs": [
    {
     "name": "stdout",
     "output_type": "stream",
     "text": [
      "Total number of impressions: 14597182\n",
      "Average CPM: 9\n",
      "Total ad cost: $ 131374.638\n"
     ]
    }
   ],
   "source": [
    "tot_impr = data['tot_impr'].sum()\n",
    "avg_cpm = 9\n",
    "total_ad_cost = avg_cpm * (tot_impr / 1000)\n",
    "print(f\"Total number of impressions: {tot_impr}\")\n",
    "print(f\"Average CPM: {avg_cpm}\")\n",
    "print(f\"Total ad cost: $ {total_ad_cost}\")"
   ]
  },
  {
   "cell_type": "markdown",
   "metadata": {},
   "source": [
    "# Q2 (c)"
   ]
  },
  {
   "cell_type": "code",
   "execution_count": 77,
   "metadata": {},
   "outputs": [
    {
     "name": "stdout",
     "output_type": "stream",
     "text": [
      "Net Profit: $ 42344.6478\n",
      "Total Cost: $ 131374.638\n",
      "\n",
      "Total ROI: 32.232 %\n"
     ]
    }
   ],
   "source": [
    "net_profit = total_profit - total_ad_cost\n",
    "total_ROI = (net_profit / total_ad_cost) * 100\n",
    "print(f\"Net Profit: $ {round(net_profit, 4)}\")\n",
    "print(f\"Total Cost: $ {total_ad_cost}\\n\")\n",
    "print(f\"Total ROI: {round(total_ROI, 4)} %\")"
   ]
  },
  {
   "cell_type": "markdown",
   "metadata": {},
   "source": [
    "# Q2 (d)"
   ]
  },
  {
   "cell_type": "code",
   "execution_count": 88,
   "metadata": {},
   "outputs": [
    {
     "name": "stdout",
     "output_type": "stream",
     "text": [
      "Total number of conversions in control group with test group convertion rate: 600.9573\n",
      "Total number of conversions in control group without ads: 420\n",
      "Additional conversions if no control group (one test group with all users): 180.9573\n",
      "\n",
      "Opportunity cost (no control group): 7238.2908\n"
     ]
    }
   ],
   "source": [
    "total_conversion_in_control_group_if_it_was_test = (control_group_count * percent_conv_rate_test)\n",
    "curr_converion_control_group = converted_from_control_grp_count\n",
    "additional_conversion_if_no_control_group = total_conversion_in_control_group_if_it_was_test - curr_converion_control_group\n",
    "opportunity_cost_if_no_control_group = additional_conversion_if_no_control_group * converting_user_worth\n",
    "print(f\"Total number of conversions in control group with test group convertion rate: {round(total_conversion_in_control_group_if_it_was_test, 4)}\")\n",
    "print(f\"Total number of conversions in control group without ads: {curr_converion_control_group}\")\n",
    "print(f\"Additional conversions if no control group (one test group with all users): {round(additional_conversion_if_no_control_group, 4)}\\n\")\n",
    "print(f\"Opportunity cost (no control group): {round(opportunity_cost_if_no_control_group, 4)}\")"
   ]
  },
  {
   "cell_type": "markdown",
   "metadata": {},
   "source": [
    "# Q3 (a)"
   ]
  },
  {
   "cell_type": "code",
   "execution_count": null,
   "metadata": {},
   "outputs": [
    {
     "ename": "AttributeError",
     "evalue": "'DataFrame' object has no attribute 'left'",
     "output_type": "error",
     "traceback": [
      "\u001b[0;31m---------------------------------------------------------------------------\u001b[0m",
      "\u001b[0;31mAttributeError\u001b[0m                            Traceback (most recent call last)",
      "Cell \u001b[0;32mIn[129], line 35\u001b[0m\n\u001b[1;32m     32\u001b[0m     plt\u001b[38;5;241m.\u001b[39mshow()\n\u001b[1;32m     34\u001b[0m buckets \u001b[38;5;241m=\u001b[39m \u001b[38;5;241m7\u001b[39m\n\u001b[0;32m---> 35\u001b[0m \u001b[43mplot\u001b[49m\u001b[43m(\u001b[49m\u001b[43mcontrol_group\u001b[49m\u001b[38;5;241;43m.\u001b[39;49m\u001b[43mcopy\u001b[49m\u001b[43m(\u001b[49m\u001b[43m)\u001b[49m\u001b[43m,\u001b[49m\u001b[43m \u001b[49m\u001b[38;5;124;43m'\u001b[39;49m\u001b[38;5;124;43mcontrol\u001b[39;49m\u001b[38;5;124;43m'\u001b[39;49m\u001b[43m,\u001b[49m\u001b[43m \u001b[49m\u001b[43mbuckets\u001b[49m\u001b[43m)\u001b[49m\n\u001b[1;32m     36\u001b[0m plot(test_group\u001b[38;5;241m.\u001b[39mcopy(), \u001b[38;5;124m'\u001b[39m\u001b[38;5;124mtest\u001b[39m\u001b[38;5;124m'\u001b[39m, buckets)\n",
      "Cell \u001b[0;32mIn[129], line 3\u001b[0m, in \u001b[0;36mplot\u001b[0;34m(df, grp, num_buckets)\u001b[0m\n\u001b[1;32m      1\u001b[0m \u001b[38;5;28;01mdef\u001b[39;00m \u001b[38;5;21mplot\u001b[39m(df, grp, num_buckets):\n\u001b[1;32m      2\u001b[0m     df[\u001b[38;5;124m'\u001b[39m\u001b[38;5;124mimpr_bucket\u001b[39m\u001b[38;5;124m'\u001b[39m] \u001b[38;5;241m=\u001b[39m pd\u001b[38;5;241m.\u001b[39mcut(df[\u001b[38;5;124m'\u001b[39m\u001b[38;5;124mtot_impr\u001b[39m\u001b[38;5;124m'\u001b[39m], bins\u001b[38;5;241m=\u001b[39mnum_buckets)\n\u001b[0;32m----> 3\u001b[0m     \u001b[38;5;28mprint\u001b[39m(\u001b[43mdf\u001b[49m\u001b[38;5;241;43m.\u001b[39;49m\u001b[43mleft\u001b[49m)\n\u001b[1;32m      4\u001b[0m     grouped \u001b[38;5;241m=\u001b[39m df\u001b[38;5;241m.\u001b[39mgroupby(\u001b[38;5;124m'\u001b[39m\u001b[38;5;124mimpr_bucket\u001b[39m\u001b[38;5;124m'\u001b[39m)[\u001b[38;5;124m'\u001b[39m\u001b[38;5;124mconverted\u001b[39m\u001b[38;5;124m'\u001b[39m]\u001b[38;5;241m.\u001b[39magg([\u001b[38;5;124m'\u001b[39m\u001b[38;5;124msum\u001b[39m\u001b[38;5;124m'\u001b[39m, \u001b[38;5;124m'\u001b[39m\u001b[38;5;124mcount\u001b[39m\u001b[38;5;124m'\u001b[39m])\u001b[38;5;241m.\u001b[39mreset_index()\n\u001b[1;32m      5\u001b[0m     grouped[\u001b[38;5;124m'\u001b[39m\u001b[38;5;124mconversion_rate\u001b[39m\u001b[38;5;124m'\u001b[39m] \u001b[38;5;241m=\u001b[39m grouped[\u001b[38;5;124m'\u001b[39m\u001b[38;5;124msum\u001b[39m\u001b[38;5;124m'\u001b[39m] \u001b[38;5;241m/\u001b[39m grouped[\u001b[38;5;124m'\u001b[39m\u001b[38;5;124mcount\u001b[39m\u001b[38;5;124m'\u001b[39m]\n",
      "File \u001b[0;32m/opt/homebrew/Caskroom/miniforge/base/envs/emade/lib/python3.10/site-packages/pandas/core/generic.py:5902\u001b[0m, in \u001b[0;36mNDFrame.__getattr__\u001b[0;34m(self, name)\u001b[0m\n\u001b[1;32m   5895\u001b[0m \u001b[38;5;28;01mif\u001b[39;00m (\n\u001b[1;32m   5896\u001b[0m     name \u001b[38;5;129;01mnot\u001b[39;00m \u001b[38;5;129;01min\u001b[39;00m \u001b[38;5;28mself\u001b[39m\u001b[38;5;241m.\u001b[39m_internal_names_set\n\u001b[1;32m   5897\u001b[0m     \u001b[38;5;129;01mand\u001b[39;00m name \u001b[38;5;129;01mnot\u001b[39;00m \u001b[38;5;129;01min\u001b[39;00m \u001b[38;5;28mself\u001b[39m\u001b[38;5;241m.\u001b[39m_metadata\n\u001b[1;32m   5898\u001b[0m     \u001b[38;5;129;01mand\u001b[39;00m name \u001b[38;5;129;01mnot\u001b[39;00m \u001b[38;5;129;01min\u001b[39;00m \u001b[38;5;28mself\u001b[39m\u001b[38;5;241m.\u001b[39m_accessors\n\u001b[1;32m   5899\u001b[0m     \u001b[38;5;129;01mand\u001b[39;00m \u001b[38;5;28mself\u001b[39m\u001b[38;5;241m.\u001b[39m_info_axis\u001b[38;5;241m.\u001b[39m_can_hold_identifiers_and_holds_name(name)\n\u001b[1;32m   5900\u001b[0m ):\n\u001b[1;32m   5901\u001b[0m     \u001b[38;5;28;01mreturn\u001b[39;00m \u001b[38;5;28mself\u001b[39m[name]\n\u001b[0;32m-> 5902\u001b[0m \u001b[38;5;28;01mreturn\u001b[39;00m \u001b[38;5;28;43mobject\u001b[39;49m\u001b[38;5;241;43m.\u001b[39;49m\u001b[38;5;21;43m__getattribute__\u001b[39;49m\u001b[43m(\u001b[49m\u001b[38;5;28;43mself\u001b[39;49m\u001b[43m,\u001b[49m\u001b[43m \u001b[49m\u001b[43mname\u001b[49m\u001b[43m)\u001b[49m\n",
      "\u001b[0;31mAttributeError\u001b[0m: 'DataFrame' object has no attribute 'left'"
     ]
    }
   ],
   "source": [
    "def plot(df, grp, num_buckets):\n",
    "    df['impr_bucket'] = pd.cut(df['tot_impr'], bins=num_buckets)\n",
    "    grouped = df.groupby('impr_bucket')['converted'].agg(['sum', 'count']).reset_index()\n",
    "    grouped['conversion_rate'] = grouped['sum'] / grouped['count']\n",
    "    grouped['bucket_midpoint'] = grouped['impr_bucket'].apply(lambda x: (x.left + x.right) / 2)\n",
    "    plt.figure(figsize=(12, 6))\n",
    "\n",
    "    bars = plt.bar(grouped['bucket_midpoint'], grouped['conversion_rate'], \n",
    "                   width=(grouped['bucket_midpoint'][1] - grouped['bucket_midpoint'][0]), \n",
    "                   color='green', edgecolor='black')\n",
    "\n",
    "    # Add text labels on top of bars\n",
    "    for bar, rate in zip(bars, grouped['conversion_rate']):\n",
    "        # Only add text if the rate is finite\n",
    "        if not (np.isnan(rate) or np.isinf(rate)):\n",
    "            plt.text(bar.get_x() + bar.get_width() / 2, bar.get_height() + 0.003, \n",
    "                     f\"{rate:.2%}\", ha='center', va='bottom', fontsize=8, color='black')\n",
    "\n",
    "    x_ticks = grouped['bucket_midpoint']\n",
    "    plt.xticks(x_ticks, [f\"{mid:.0f}\" for mid in x_ticks], fontsize=10, rotation=45)\n",
    "\n",
    "    plt.title(f\"Conversion rate by total impressions for {grp} group\", fontsize=14)\n",
    "    plt.xlabel(\"Total Impressions\", fontsize=12)\n",
    "    plt.ylabel(\"Conversion Rate\", fontsize=12)\n",
    "    plt.xticks(fontsize=8)\n",
    "    plt.yticks(fontsize=8)\n",
    "    plt.grid(axis='y', linestyle='--', alpha=0.7)\n",
    "\n",
    "    # Show the plot\n",
    "    plt.tight_layout()\n",
    "    plt.show()\n",
    "\n",
    "buckets = 7\n",
    "plot(control_group.copy(), 'control', buckets)\n",
    "plot(test_group.copy(), 'test', buckets)"
   ]
  },
  {
   "cell_type": "code",
   "execution_count": 89,
   "metadata": {},
   "outputs": [
    {
     "data": {
      "text/html": [
       "<div>\n",
       "<style scoped>\n",
       "    .dataframe tbody tr th:only-of-type {\n",
       "        vertical-align: middle;\n",
       "    }\n",
       "\n",
       "    .dataframe tbody tr th {\n",
       "        vertical-align: top;\n",
       "    }\n",
       "\n",
       "    .dataframe thead th {\n",
       "        text-align: right;\n",
       "    }\n",
       "</style>\n",
       "<table border=\"1\" class=\"dataframe\">\n",
       "  <thead>\n",
       "    <tr style=\"text-align: right;\">\n",
       "      <th></th>\n",
       "      <th>user_id</th>\n",
       "      <th>test</th>\n",
       "      <th>converted</th>\n",
       "      <th>tot_impr</th>\n",
       "      <th>mode_impr_day</th>\n",
       "      <th>mode_impr_hour</th>\n",
       "    </tr>\n",
       "  </thead>\n",
       "  <tbody>\n",
       "    <tr>\n",
       "      <th>0</th>\n",
       "      <td>1069124</td>\n",
       "      <td>1</td>\n",
       "      <td>0</td>\n",
       "      <td>130</td>\n",
       "      <td>1</td>\n",
       "      <td>20</td>\n",
       "    </tr>\n",
       "    <tr>\n",
       "      <th>1</th>\n",
       "      <td>1119715</td>\n",
       "      <td>1</td>\n",
       "      <td>0</td>\n",
       "      <td>93</td>\n",
       "      <td>2</td>\n",
       "      <td>22</td>\n",
       "    </tr>\n",
       "    <tr>\n",
       "      <th>2</th>\n",
       "      <td>1144181</td>\n",
       "      <td>1</td>\n",
       "      <td>0</td>\n",
       "      <td>21</td>\n",
       "      <td>2</td>\n",
       "      <td>18</td>\n",
       "    </tr>\n",
       "    <tr>\n",
       "      <th>3</th>\n",
       "      <td>1435133</td>\n",
       "      <td>1</td>\n",
       "      <td>0</td>\n",
       "      <td>355</td>\n",
       "      <td>2</td>\n",
       "      <td>10</td>\n",
       "    </tr>\n",
       "    <tr>\n",
       "      <th>4</th>\n",
       "      <td>1015700</td>\n",
       "      <td>1</td>\n",
       "      <td>0</td>\n",
       "      <td>276</td>\n",
       "      <td>5</td>\n",
       "      <td>14</td>\n",
       "    </tr>\n",
       "    <tr>\n",
       "      <th>...</th>\n",
       "      <td>...</td>\n",
       "      <td>...</td>\n",
       "      <td>...</td>\n",
       "      <td>...</td>\n",
       "      <td>...</td>\n",
       "      <td>...</td>\n",
       "    </tr>\n",
       "    <tr>\n",
       "      <th>588096</th>\n",
       "      <td>1278437</td>\n",
       "      <td>1</td>\n",
       "      <td>0</td>\n",
       "      <td>1</td>\n",
       "      <td>2</td>\n",
       "      <td>23</td>\n",
       "    </tr>\n",
       "    <tr>\n",
       "      <th>588097</th>\n",
       "      <td>1327975</td>\n",
       "      <td>1</td>\n",
       "      <td>0</td>\n",
       "      <td>1</td>\n",
       "      <td>2</td>\n",
       "      <td>23</td>\n",
       "    </tr>\n",
       "    <tr>\n",
       "      <th>588098</th>\n",
       "      <td>1038442</td>\n",
       "      <td>1</td>\n",
       "      <td>0</td>\n",
       "      <td>3</td>\n",
       "      <td>2</td>\n",
       "      <td>23</td>\n",
       "    </tr>\n",
       "    <tr>\n",
       "      <th>588099</th>\n",
       "      <td>1496395</td>\n",
       "      <td>1</td>\n",
       "      <td>0</td>\n",
       "      <td>1</td>\n",
       "      <td>2</td>\n",
       "      <td>23</td>\n",
       "    </tr>\n",
       "    <tr>\n",
       "      <th>588100</th>\n",
       "      <td>1237779</td>\n",
       "      <td>1</td>\n",
       "      <td>0</td>\n",
       "      <td>1</td>\n",
       "      <td>2</td>\n",
       "      <td>23</td>\n",
       "    </tr>\n",
       "  </tbody>\n",
       "</table>\n",
       "<p>588101 rows × 6 columns</p>\n",
       "</div>"
      ],
      "text/plain": [
       "        user_id  test  converted  tot_impr  mode_impr_day  mode_impr_hour\n",
       "0       1069124     1          0       130              1              20\n",
       "1       1119715     1          0        93              2              22\n",
       "2       1144181     1          0        21              2              18\n",
       "3       1435133     1          0       355              2              10\n",
       "4       1015700     1          0       276              5              14\n",
       "...         ...   ...        ...       ...            ...             ...\n",
       "588096  1278437     1          0         1              2              23\n",
       "588097  1327975     1          0         1              2              23\n",
       "588098  1038442     1          0         3              2              23\n",
       "588099  1496395     1          0         1              2              23\n",
       "588100  1237779     1          0         1              2              23\n",
       "\n",
       "[588101 rows x 6 columns]"
      ]
     },
     "execution_count": 89,
     "metadata": {},
     "output_type": "execute_result"
    }
   ],
   "source": [
    "data"
   ]
  },
  {
   "cell_type": "code",
   "execution_count": null,
   "metadata": {},
   "outputs": [],
   "source": []
  }
 ],
 "metadata": {
  "kernelspec": {
   "display_name": "Python 3.10 (emade)",
   "language": "python",
   "name": "emade"
  },
  "language_info": {
   "codemirror_mode": {
    "name": "ipython",
    "version": 3
   },
   "file_extension": ".py",
   "mimetype": "text/x-python",
   "name": "python",
   "nbconvert_exporter": "python",
   "pygments_lexer": "ipython3",
   "version": "3.10.9"
  }
 },
 "nbformat": 4,
 "nbformat_minor": 2
}
